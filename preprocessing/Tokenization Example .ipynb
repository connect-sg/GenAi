{
 "cells": [
  {
   "cell_type": "code",
   "execution_count": 1,
   "id": "85694ef0",
   "metadata": {},
   "outputs": [
    {
     "name": "stdout",
     "output_type": "stream",
     "text": [
      "Requirement already satisfied: nltk in /Users/siddharthgehlot/anaconda3/lib/python3.11/site-packages (3.8.1)\n",
      "Requirement already satisfied: click in /Users/siddharthgehlot/anaconda3/lib/python3.11/site-packages (from nltk) (8.0.4)\n",
      "Requirement already satisfied: joblib in /Users/siddharthgehlot/anaconda3/lib/python3.11/site-packages (from nltk) (1.2.0)\n",
      "Requirement already satisfied: regex>=2021.8.3 in /Users/siddharthgehlot/anaconda3/lib/python3.11/site-packages (from nltk) (2022.7.9)\n",
      "Requirement already satisfied: tqdm in /Users/siddharthgehlot/anaconda3/lib/python3.11/site-packages (from nltk) (4.65.0)\n"
     ]
    }
   ],
   "source": [
    "# install libarary for tokenization\n",
    "!pip install nltk"
   ]
  },
  {
   "cell_type": "code",
   "execution_count": 10,
   "id": "ac2f7a29",
   "metadata": {},
   "outputs": [],
   "source": [
    "corpus = \"\"\"\n",
    "Welcome to tokenization example. This example is a part of NLP tutorial.\n",
    "Please do go through entire tutorial to be an expert in NLP.\n",
    "\"\"\""
   ]
  },
  {
   "cell_type": "code",
   "execution_count": 11,
   "id": "8f7c6650",
   "metadata": {},
   "outputs": [
    {
     "data": {
      "text/plain": [
       "'\\nWelcome to tokenization example. This example is a part of NLP tutorial.\\nPlease do go through entire tutorial to be an expert in NLP.\\n'"
      ]
     },
     "execution_count": 11,
     "metadata": {},
     "output_type": "execute_result"
    }
   ],
   "source": [
    "corpus"
   ]
  },
  {
   "cell_type": "code",
   "execution_count": 12,
   "id": "8293e605",
   "metadata": {},
   "outputs": [
    {
     "name": "stdout",
     "output_type": "stream",
     "text": [
      "\n",
      "Welcome to tokenization example. This example is a part of NLP tutorial.\n",
      "Please do go through entire tutorial to be an expert in NLP.\n",
      "\n"
     ]
    }
   ],
   "source": [
    "print(corpus)"
   ]
  },
  {
   "cell_type": "code",
   "execution_count": 13,
   "id": "bea13c1f",
   "metadata": {},
   "outputs": [],
   "source": [
    "# Tokenization - \n",
    "## 1. Convert paragraph to sentence\n",
    "\n",
    "from nltk.tokenize import sent_tokenize\n"
   ]
  },
  {
   "cell_type": "code",
   "execution_count": 14,
   "id": "1d885bea",
   "metadata": {},
   "outputs": [
    {
     "name": "stderr",
     "output_type": "stream",
     "text": [
      "[nltk_data] Downloading package punkt to\n",
      "[nltk_data]     /Users/siddharthgehlot/nltk_data...\n",
      "[nltk_data]   Package punkt is already up-to-date!\n"
     ]
    },
    {
     "data": {
      "text/plain": [
       "True"
      ]
     },
     "execution_count": 14,
     "metadata": {},
     "output_type": "execute_result"
    }
   ],
   "source": [
    "import nltk\n",
    "nltk.download('punkt')"
   ]
  },
  {
   "cell_type": "code",
   "execution_count": 16,
   "id": "d83ded24",
   "metadata": {},
   "outputs": [],
   "source": [
    "documents = sent_tokenize(corpus)#convert paragarph to sentence"
   ]
  },
  {
   "cell_type": "code",
   "execution_count": 17,
   "id": "61256bd6",
   "metadata": {},
   "outputs": [
    {
     "data": {
      "text/plain": [
       "['\\nWelcome to tokenization example.',\n",
       " 'This example is a part of NLP tutorial.',\n",
       " 'Please do go through entire tutorial to be an expert in NLP.']"
      ]
     },
     "execution_count": 17,
     "metadata": {},
     "output_type": "execute_result"
    }
   ],
   "source": [
    "documents"
   ]
  },
  {
   "cell_type": "code",
   "execution_count": 18,
   "id": "72302eac",
   "metadata": {},
   "outputs": [
    {
     "data": {
      "text/plain": [
       "list"
      ]
     },
     "execution_count": 18,
     "metadata": {},
     "output_type": "execute_result"
    }
   ],
   "source": [
    "type(documents)"
   ]
  },
  {
   "cell_type": "code",
   "execution_count": 19,
   "id": "cccea17d",
   "metadata": {},
   "outputs": [
    {
     "name": "stdout",
     "output_type": "stream",
     "text": [
      "\n",
      "Welcome to tokenization example.\n",
      "This example is a part of NLP tutorial.\n",
      "Please do go through entire tutorial to be an expert in NLP.\n"
     ]
    }
   ],
   "source": [
    "for sentence in documents:\n",
    "    print(sentence)"
   ]
  },
  {
   "cell_type": "code",
   "execution_count": 20,
   "id": "49045d58",
   "metadata": {},
   "outputs": [],
   "source": [
    "## convert para to words\n",
    "from nltk.tokenize import word_tokenize\n"
   ]
  },
  {
   "cell_type": "code",
   "execution_count": 21,
   "id": "21180c33",
   "metadata": {},
   "outputs": [
    {
     "data": {
      "text/plain": [
       "['Welcome',\n",
       " 'to',\n",
       " 'tokenization',\n",
       " 'example',\n",
       " '.',\n",
       " 'This',\n",
       " 'example',\n",
       " 'is',\n",
       " 'a',\n",
       " 'part',\n",
       " 'of',\n",
       " 'NLP',\n",
       " 'tutorial',\n",
       " '.',\n",
       " 'Please',\n",
       " 'do',\n",
       " 'go',\n",
       " 'through',\n",
       " 'entire',\n",
       " 'tutorial',\n",
       " 'to',\n",
       " 'be',\n",
       " 'an',\n",
       " 'expert',\n",
       " 'in',\n",
       " 'NLP',\n",
       " '.']"
      ]
     },
     "execution_count": 21,
     "metadata": {},
     "output_type": "execute_result"
    }
   ],
   "source": [
    "word_tokenize(corpus)"
   ]
  },
  {
   "cell_type": "code",
   "execution_count": 22,
   "id": "15211bf5",
   "metadata": {},
   "outputs": [
    {
     "name": "stdout",
     "output_type": "stream",
     "text": [
      "['Welcome', 'to', 'tokenization', 'example', '.']\n",
      "['This', 'example', 'is', 'a', 'part', 'of', 'NLP', 'tutorial', '.']\n",
      "['Please', 'do', 'go', 'through', 'entire', 'tutorial', 'to', 'be', 'an', 'expert', 'in', 'NLP', '.']\n"
     ]
    }
   ],
   "source": [
    "## convert sentence to words\n",
    "for sentence in documents:\n",
    "    print(word_tokenize(sentence))"
   ]
  },
  {
   "cell_type": "code",
   "execution_count": 23,
   "id": "a0f5f040",
   "metadata": {},
   "outputs": [],
   "source": [
    "from nltk.tokenize import wordpunct_tokenize"
   ]
  },
  {
   "cell_type": "code",
   "execution_count": 24,
   "id": "cc127fc1",
   "metadata": {},
   "outputs": [
    {
     "data": {
      "text/plain": [
       "['Welcome',\n",
       " 'to',\n",
       " 'tokenization',\n",
       " 'example',\n",
       " '.',\n",
       " 'This',\n",
       " 'example',\n",
       " 'is',\n",
       " 'a',\n",
       " 'part',\n",
       " 'of',\n",
       " 'NLP',\n",
       " 'tutorial',\n",
       " '.',\n",
       " 'Please',\n",
       " 'do',\n",
       " 'go',\n",
       " 'through',\n",
       " 'entire',\n",
       " 'tutorial',\n",
       " 'to',\n",
       " 'be',\n",
       " 'an',\n",
       " 'expert',\n",
       " 'in',\n",
       " 'NLP',\n",
       " '.']"
      ]
     },
     "execution_count": 24,
     "metadata": {},
     "output_type": "execute_result"
    }
   ],
   "source": [
    "wordpunct_tokenize(corpus)# splits punctuation if any"
   ]
  },
  {
   "cell_type": "code",
   "execution_count": 25,
   "id": "496fb655",
   "metadata": {},
   "outputs": [],
   "source": [
    "from nltk.tokenize import TreebankWordTokenizer"
   ]
  },
  {
   "cell_type": "code",
   "execution_count": 26,
   "id": "5befc873",
   "metadata": {},
   "outputs": [],
   "source": [
    "tokenizer = TreebankWordTokenizer()"
   ]
  },
  {
   "cell_type": "code",
   "execution_count": 27,
   "id": "2fd6ef9c",
   "metadata": {},
   "outputs": [
    {
     "data": {
      "text/plain": [
       "['Welcome',\n",
       " 'to',\n",
       " 'tokenization',\n",
       " 'example.',\n",
       " 'This',\n",
       " 'example',\n",
       " 'is',\n",
       " 'a',\n",
       " 'part',\n",
       " 'of',\n",
       " 'NLP',\n",
       " 'tutorial.',\n",
       " 'Please',\n",
       " 'do',\n",
       " 'go',\n",
       " 'through',\n",
       " 'entire',\n",
       " 'tutorial',\n",
       " 'to',\n",
       " 'be',\n",
       " 'an',\n",
       " 'expert',\n",
       " 'in',\n",
       " 'NLP',\n",
       " '.']"
      ]
     },
     "execution_count": 27,
     "metadata": {},
     "output_type": "execute_result"
    }
   ],
   "source": [
    "tokenizer.tokenize(corpus)# full stop is not treated as separate word but last word full stop is separate"
   ]
  },
  {
   "cell_type": "code",
   "execution_count": null,
   "id": "f7462697",
   "metadata": {},
   "outputs": [],
   "source": []
  }
 ],
 "metadata": {
  "kernelspec": {
   "display_name": "Python 3 (ipykernel)",
   "language": "python",
   "name": "python3"
  },
  "language_info": {
   "codemirror_mode": {
    "name": "ipython",
    "version": 3
   },
   "file_extension": ".py",
   "mimetype": "text/x-python",
   "name": "python",
   "nbconvert_exporter": "python",
   "pygments_lexer": "ipython3",
   "version": "3.11.4"
  }
 },
 "nbformat": 4,
 "nbformat_minor": 5
}
